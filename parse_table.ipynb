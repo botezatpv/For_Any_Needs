{
 "cells": [
  {
   "cell_type": "code",
   "execution_count": 1,
   "metadata": {
    "collapsed": true
   },
   "outputs": [],
   "source": [
    "from collections import defaultdict\n",
    "import pandas as pd\n",
    "import lxml.html"
   ]
  },
  {
   "cell_type": "code",
   "execution_count": 2,
   "metadata": {
    "collapsed": true
   },
   "outputs": [],
   "source": [
    "def transform_table_to_list(table):\n",
    "    dct = transform_table_to_dict(table)\n",
    "    return list(dict_iter(dct))"
   ]
  },
  {
   "cell_type": "code",
   "execution_count": 3,
   "metadata": {
    "collapsed": true
   },
   "outputs": [],
   "source": [
    "def transform_table_to_dict(table):\n",
    "    result = defaultdict(lambda : defaultdict(unicode))\n",
    "    for row_i, row in enumerate(table.xpath('./tr')):\n",
    "        for col_i, col in enumerate(row.xpath('./td|./th')):\n",
    "            colspan = int(col.get('colspan', 1))\n",
    "            rowspan = int(col.get('rowspan', 1))\n",
    "            col_data = col.text_content()\n",
    "            while row_i in result and col_i in result[row_i]:\n",
    "                col_i += 1\n",
    "            for i in range(row_i, row_i + rowspan):\n",
    "                for j in range(col_i, col_i + colspan):\n",
    "                    result[i][j] = col_data\n",
    "    return result"
   ]
  },
  {
   "cell_type": "code",
   "execution_count": 4,
   "metadata": {
    "collapsed": true
   },
   "outputs": [],
   "source": [
    "def dict_iter(dct):\n",
    "    for i, row in sorted(dct.items()):\n",
    "        cols = []\n",
    "        for j, col in sorted(row.items()):\n",
    "            cols.append(col)\n",
    "        yield cols"
   ]
  },
  {
   "cell_type": "code",
   "execution_count": 6,
   "metadata": {
    "collapsed": false
   },
   "outputs": [
    {
     "name": "stdout",
     "output_type": "stream",
     "text": [
      "----------------------------------------------------------------------------------------------------\n",
      "     Browser | Internet  Explorer | Internet  Explorer | Opera | Opera | Opera | Firefox | Firefox |\n",
      "0    Browser |                6.0 |                7.0 |   7.0 |   8.0 |   9.0 |     1.0 |     2.0 |\n",
      "1  Supported |                 No |                Yes |    No |   Yes |   Yes |     Yes |     Yes |\n",
      "----------------------------------------------------------------------------------------------------\n",
      "----------------------------------------------------------------------------------------------------\n",
      "     Browser | Internet  Explorer | Internet  Explorer | Opera | Opera | Opera | Firefox | Firefox |\n",
      "0    Browser |                6.0 |                7.0 |   7.0 |   8.0 |   9.0 |     1.0 |     2.0 |\n",
      "1  Supported |                 No |                Yes |    No |   Yes |   Yes |     Yes |     Yes |\n",
      "----------------------------------------------------------------------------------------------------\n",
      "----------------------------------------------------------------------------------------------------\n",
      "     Browser | Internet  Explorer | Internet  Explorer | Opera | Opera | Opera | Firefox | Firefox |\n",
      "0    Browser |                6.0 |                7.0 |   7.0 |   8.0 |   9.0 |     1.0 |     2.0 |\n",
      "1  Supported |                 No |                Yes |    No |   Yes |   Yes |     Yes |     Yes |\n",
      "----------------------------------------------------------------------------------------------------\n",
      "----------------------------------------------------------------------------------------------------\n",
      "     Browser | Internet  Explorer | Internet  Explorer | Opera | Opera | Opera | Firefox | Firefox |\n",
      "0    Browser |                6.0 |                7.0 |   7.0 |   8.0 |   9.0 |     1.0 |     2.0 |\n",
      "1  Supported |                 No |                Yes |    No |   Yes |   Yes |     Yes |     Yes |\n",
      "----------------------------------------------------------------------------------------------------\n"
     ]
    }
   ],
   "source": [
    "doc = lxml.html.parse('table.html')\n",
    "for table_el in doc.xpath('//table'):\n",
    "    table = transform_table_to_list(table_el)\n",
    "\n",
    "    #print table\n",
    "    pd.set_option('display.width', 1000)\n",
    "\n",
    "    print \"{:-^100}\".format(\"-\")\n",
    "    df = pd.DataFrame(table[1:], columns=table[0])\n",
    "    print df\n",
    "    print \"{:-^100}\".format(\"-\")"
   ]
  },
  {
   "cell_type": "code",
   "execution_count": null,
   "metadata": {
    "collapsed": true
   },
   "outputs": [],
   "source": []
  }
 ],
 "metadata": {
  "kernelspec": {
   "display_name": "Python 2",
   "language": "python",
   "name": "python2"
  },
  "language_info": {
   "codemirror_mode": {
    "name": "ipython",
    "version": 2
   },
   "file_extension": ".py",
   "mimetype": "text/x-python",
   "name": "python",
   "nbconvert_exporter": "python",
   "pygments_lexer": "ipython2",
   "version": "2.7.12"
  }
 },
 "nbformat": 4,
 "nbformat_minor": 0
}
